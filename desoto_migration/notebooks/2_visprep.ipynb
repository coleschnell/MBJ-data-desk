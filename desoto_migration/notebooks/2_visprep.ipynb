{
 "cells": [
  {
   "cell_type": "markdown",
   "metadata": {},
   "source": [
    "# Prepping data for data visualizations"
   ]
  },
  {
   "cell_type": "code",
   "execution_count": 5,
   "metadata": {},
   "outputs": [],
   "source": [
    "import pandas as pd\n",
    "import geopandas as gpd\n",
    "import glob\n",
    "\n",
    "# load all processed data\n",
    "for file in glob.glob(\"../data/processed/*.csv\"):\n",
    "    exec(file.split('/')[-1].replace(\".csv\", \"\") + '= pd.read_csv(file)')"
   ]
  },
  {
   "cell_type": "markdown",
   "metadata": {},
   "source": [
    "### Population percent change, year-over-year"
   ]
  },
  {
   "cell_type": "code",
   "execution_count": 8,
   "metadata": {},
   "outputs": [],
   "source": [
    "# type: ignore\n",
    "pop_est_desoto_shelby_ms_1980_2023 = (\n",
    "    pop_est_desoto_shelby_ms_1970_2023.set_index(\"Date\")\n",
    "    .pct_change()\n",
    "    .apply(  # calculate year-over-year percent change\n",
    "        lambda x: x * 100  # multiple by 100 to make percent more readable\n",
    "    )\n",
    "    .reset_index()[\n",
    "        pop_est_desoto_shelby_ms_1970_2023[\"Date\"] >= \"1980-01-01\"  # filter after 1980\n",
    "    ]\n",
    ")"
   ]
  },
  {
   "cell_type": "code",
   "execution_count": 9,
   "metadata": {},
   "outputs": [
    {
     "data": {
      "text/html": [
       "<div>\n",
       "<style scoped>\n",
       "    .dataframe tbody tr th:only-of-type {\n",
       "        vertical-align: middle;\n",
       "    }\n",
       "\n",
       "    .dataframe tbody tr th {\n",
       "        vertical-align: top;\n",
       "    }\n",
       "\n",
       "    .dataframe thead th {\n",
       "        text-align: right;\n",
       "    }\n",
       "</style>\n",
       "<table border=\"1\" class=\"dataframe\">\n",
       "  <thead>\n",
       "    <tr style=\"text-align: right;\">\n",
       "      <th></th>\n",
       "      <th>Date</th>\n",
       "      <th>Shelby County</th>\n",
       "      <th>DeSoto County</th>\n",
       "      <th>Mississippi</th>\n",
       "    </tr>\n",
       "  </thead>\n",
       "  <tbody>\n",
       "    <tr>\n",
       "      <th>10</th>\n",
       "      <td>1980-01-01</td>\n",
       "      <td>1.094445</td>\n",
       "      <td>1.563089</td>\n",
       "      <td>0.728859</td>\n",
       "    </tr>\n",
       "    <tr>\n",
       "      <th>11</th>\n",
       "      <td>1981-01-01</td>\n",
       "      <td>-0.585500</td>\n",
       "      <td>0.513629</td>\n",
       "      <td>0.542263</td>\n",
       "    </tr>\n",
       "    <tr>\n",
       "      <th>12</th>\n",
       "      <td>1982-01-01</td>\n",
       "      <td>0.380551</td>\n",
       "      <td>0.595864</td>\n",
       "      <td>0.698730</td>\n",
       "    </tr>\n",
       "    <tr>\n",
       "      <th>13</th>\n",
       "      <td>1983-01-01</td>\n",
       "      <td>0.449902</td>\n",
       "      <td>1.203008</td>\n",
       "      <td>0.427882</td>\n",
       "    </tr>\n",
       "    <tr>\n",
       "      <th>14</th>\n",
       "      <td>1984-01-01</td>\n",
       "      <td>0.347885</td>\n",
       "      <td>0.686768</td>\n",
       "      <td>0.402459</td>\n",
       "    </tr>\n",
       "  </tbody>\n",
       "</table>\n",
       "</div>"
      ],
      "text/plain": [
       "          Date  Shelby County  DeSoto County  Mississippi\n",
       "10  1980-01-01       1.094445       1.563089     0.728859\n",
       "11  1981-01-01      -0.585500       0.513629     0.542263\n",
       "12  1982-01-01       0.380551       0.595864     0.698730\n",
       "13  1983-01-01       0.449902       1.203008     0.427882\n",
       "14  1984-01-01       0.347885       0.686768     0.402459"
      ]
     },
     "execution_count": 9,
     "metadata": {},
     "output_type": "execute_result"
    }
   ],
   "source": [
    "pop_est_desoto_shelby_ms_1980_2023.to_json('../data/visdata/pop_est_desoto_shelby_ms_1980_2023.json', orient='records')\n",
    "pop_est_desoto_shelby_ms_1980_2023.head(5)"
   ]
  },
  {
   "cell_type": "markdown",
   "metadata": {},
   "source": [
    "### Map of net movers by county to DeSoto County, Miss."
   ]
  },
  {
   "cell_type": "code",
   "execution_count": 26,
   "metadata": {},
   "outputs": [],
   "source": [
    "# type: ignore\n",
    "acs_desoto_flows_15y.set_index('id').to_json('../data/visdata/acs_desoto_flows_15y.json')\n",
    "acs_desoto_flows_15y.head(5)"
   ]
  },
  {
   "cell_type": "markdown",
   "metadata": {},
   "source": [
    "### Net migration, 5-year rolling average"
   ]
  },
  {
   "cell_type": "code",
   "execution_count": 9,
   "metadata": {},
   "outputs": [
    {
     "data": {
      "text/html": [
       "<div>\n",
       "<style scoped>\n",
       "    .dataframe tbody tr th:only-of-type {\n",
       "        vertical-align: middle;\n",
       "    }\n",
       "\n",
       "    .dataframe tbody tr th {\n",
       "        vertical-align: top;\n",
       "    }\n",
       "\n",
       "    .dataframe thead th {\n",
       "        text-align: right;\n",
       "    }\n",
       "</style>\n",
       "<table border=\"1\" class=\"dataframe\">\n",
       "  <thead>\n",
       "    <tr style=\"text-align: right;\">\n",
       "      <th></th>\n",
       "      <th>year</th>\n",
       "      <th>shelby</th>\n",
       "      <th>no_shelby</th>\n",
       "    </tr>\n",
       "  </thead>\n",
       "  <tbody>\n",
       "    <tr>\n",
       "      <th>0</th>\n",
       "      <td>2010</td>\n",
       "      <td>2145</td>\n",
       "      <td>611</td>\n",
       "    </tr>\n",
       "    <tr>\n",
       "      <th>1</th>\n",
       "      <td>2011</td>\n",
       "      <td>1501</td>\n",
       "      <td>140</td>\n",
       "    </tr>\n",
       "  </tbody>\n",
       "</table>\n",
       "</div>"
      ],
      "text/plain": [
       "   year  shelby  no_shelby\n",
       "0  2010    2145        611\n",
       "1  2011    1501        140"
      ]
     },
     "execution_count": 9,
     "metadata": {},
     "output_type": "execute_result"
    }
   ],
   "source": [
    "# type: ignore\n",
    "acs_desoto_flows_net_shelby_rolling_avg.to_json('../data/visdata/acs_desoto_flows_net_shelby_rolling_avg.json', orient='records')\n",
    "acs_desoto_flows_net_shelby_rolling_avg.head(2)"
   ]
  },
  {
   "cell_type": "markdown",
   "metadata": {},
   "source": [
    "### Black and White population percent change, year-over-year"
   ]
  },
  {
   "cell_type": "code",
   "execution_count": 10,
   "metadata": {},
   "outputs": [
    {
     "data": {
      "text/html": [
       "<div>\n",
       "<style scoped>\n",
       "    .dataframe tbody tr th:only-of-type {\n",
       "        vertical-align: middle;\n",
       "    }\n",
       "\n",
       "    .dataframe tbody tr th {\n",
       "        vertical-align: top;\n",
       "    }\n",
       "\n",
       "    .dataframe thead th {\n",
       "        text-align: right;\n",
       "    }\n",
       "</style>\n",
       "<table border=\"1\" class=\"dataframe\">\n",
       "  <thead>\n",
       "    <tr style=\"text-align: right;\">\n",
       "      <th></th>\n",
       "      <th>date</th>\n",
       "      <th>black</th>\n",
       "      <th>white</th>\n",
       "    </tr>\n",
       "  </thead>\n",
       "  <tbody>\n",
       "    <tr>\n",
       "      <th>0</th>\n",
       "      <td>2010-01-01</td>\n",
       "      <td>2.15956</td>\n",
       "      <td>-3.34521</td>\n",
       "    </tr>\n",
       "    <tr>\n",
       "      <th>1</th>\n",
       "      <td>2011-01-01</td>\n",
       "      <td>0.64943</td>\n",
       "      <td>-0.89416</td>\n",
       "    </tr>\n",
       "  </tbody>\n",
       "</table>\n",
       "</div>"
      ],
      "text/plain": [
       "         date    black    white\n",
       "0  2010-01-01  2.15956 -3.34521\n",
       "1  2011-01-01  0.64943 -0.89416"
      ]
     },
     "metadata": {},
     "output_type": "display_data"
    },
    {
     "data": {
      "text/html": [
       "<div>\n",
       "<style scoped>\n",
       "    .dataframe tbody tr th:only-of-type {\n",
       "        vertical-align: middle;\n",
       "    }\n",
       "\n",
       "    .dataframe tbody tr th {\n",
       "        vertical-align: top;\n",
       "    }\n",
       "\n",
       "    .dataframe thead th {\n",
       "        text-align: right;\n",
       "    }\n",
       "</style>\n",
       "<table border=\"1\" class=\"dataframe\">\n",
       "  <thead>\n",
       "    <tr style=\"text-align: right;\">\n",
       "      <th></th>\n",
       "      <th>date</th>\n",
       "      <th>black</th>\n",
       "      <th>white</th>\n",
       "    </tr>\n",
       "  </thead>\n",
       "  <tbody>\n",
       "    <tr>\n",
       "      <th>0</th>\n",
       "      <td>2010-01-01</td>\n",
       "      <td>1.94165</td>\n",
       "      <td>2.24176</td>\n",
       "    </tr>\n",
       "    <tr>\n",
       "      <th>1</th>\n",
       "      <td>2011-01-01</td>\n",
       "      <td>5.48313</td>\n",
       "      <td>0.87043</td>\n",
       "    </tr>\n",
       "  </tbody>\n",
       "</table>\n",
       "</div>"
      ],
      "text/plain": [
       "         date    black    white\n",
       "0  2010-01-01  1.94165  2.24176\n",
       "1  2011-01-01  5.48313  0.87043"
      ]
     },
     "metadata": {},
     "output_type": "display_data"
    }
   ],
   "source": [
    "# type: ignore\n",
    "shelby_race_pop_percent_change.to_json('../data/visdata/shelby_race_pop_percent_change.json', orient='records')\n",
    "desoto_race_pop_percent_change.to_json('../data/visdata/desoto_race_pop_percent_change.json', orient='records')\n",
    "\n",
    "display(shelby_race_pop_percent_change.head(2))\n",
    "display(desoto_race_pop_percent_change.head(2))"
   ]
  }
 ],
 "metadata": {
  "kernelspec": {
   "display_name": "desoto_migration-fnyxsis4",
   "language": "python",
   "name": "python3"
  },
  "language_info": {
   "codemirror_mode": {
    "name": "ipython",
    "version": 3
   },
   "file_extension": ".py",
   "mimetype": "text/x-python",
   "name": "python",
   "nbconvert_exporter": "python",
   "pygments_lexer": "ipython3",
   "version": "3.9.6"
  }
 },
 "nbformat": 4,
 "nbformat_minor": 2
}
